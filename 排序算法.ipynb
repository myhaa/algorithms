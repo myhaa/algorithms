{
 "cells": [
  {
   "cell_type": "markdown",
   "metadata": {},
   "source": [
    "# 导入模块"
   ]
  },
  {
   "cell_type": "code",
   "execution_count": 1,
   "metadata": {},
   "outputs": [],
   "source": [
    "import time\n",
    "import random\n",
    "import copy"
   ]
  },
  {
   "cell_type": "markdown",
   "metadata": {},
   "source": [
    "# 对数器\n",
    "## 步骤\n",
    "1. 有一个你想测试的方法`A`\n",
    "2. 实现一个绝对正确但是复杂度不好的方法`B`\n",
    "3. 实现一个随机样本产生器\n",
    "4. 实现对比方法`A`和方法`B`的方法\n",
    "5. 将方法`A`与方法`B`对比多次来验证方法`A`是否正确\n",
    "6. 如果有一个样本使比对出错，打印该样本，分析方法`A`\n",
    "7. 当样本数量很多时，测试方法`A`依然正确，则可以确定`A`正确"
   ]
  },
  {
   "cell_type": "markdown",
   "metadata": {},
   "source": [
    "# 冒泡排序\n",
    "## 原理\n",
    "1. 0~N-1位置找最大值放N-1位置\n",
    "2. 0~N-2位置找最大值放N-2位置\n",
    "3. ...\n",
    "\n",
    "## 复杂度\n",
    "* $O(N^2)$"
   ]
  },
  {
   "cell_type": "code",
   "execution_count": 2,
   "metadata": {},
   "outputs": [],
   "source": [
    "# 正确解法\n",
    "def bubblesort(arr):\n",
    "    if arr is None or len(arr) < 2:\n",
    "        return arr\n",
    "    for i in range(len(arr)-1, 0, -1):  # 从末端依次递减，与找到的最大值交换\n",
    "        for j in range(0, i):  # 已交换过的位置不需要再遍历\n",
    "            if arr[i] < arr[j]:\n",
    "                arr[i], arr[j] = arr[j], arr[i]\n",
    "    return arr"
   ]
  },
  {
   "cell_type": "code",
   "execution_count": 3,
   "metadata": {},
   "outputs": [
    {
     "name": "stdout",
     "output_type": "stream",
     "text": [
      "[0, 4, 4, 5, 6, 6, 6, 7, 7, 8]\n",
      "0.0\n"
     ]
    }
   ],
   "source": [
    "# 生成测试数组\n",
    "random.seed(0)\n",
    "N = 10\n",
    "arr = [random.randint(0, N) for x in range(N)]\n",
    "# print(arr)\n",
    "\n",
    "# 排序\n",
    "t1 = time.time()\n",
    "print(bubblesort(arr))\n",
    "print(time.time()-t1)"
   ]
  },
  {
   "cell_type": "markdown",
   "metadata": {},
   "source": [
    "# 选择排序\n",
    "## 原理\n",
    "1. 0~N-1位置找最小位置下标，与0位置交换\n",
    "2. 1~N-1位置找最小位置下标，与1位置交换\n",
    "3. ...\n",
    "\n",
    "## 复杂度\n",
    "* $O(N^2)$"
   ]
  },
  {
   "cell_type": "code",
   "execution_count": 4,
   "metadata": {},
   "outputs": [],
   "source": [
    "def selectsort(arr):\n",
    "    if arr is None or len(arr) < 2:\n",
    "        return arr\n",
    "    for i in range(len(arr)-1):\n",
    "        min_index = i\n",
    "        for j in range(i+1, len(arr)):\n",
    "            if arr[j] < arr[min_index]:\n",
    "                min_index = j\n",
    "        if arr[min_index] == arr[i]:\n",
    "            continue\n",
    "        arr[i], arr[min_index] = arr[min_index], arr[i]\n",
    "    return arr"
   ]
  },
  {
   "cell_type": "code",
   "execution_count": 5,
   "metadata": {},
   "outputs": [
    {
     "name": "stdout",
     "output_type": "stream",
     "text": [
      "[0, 4, 4, 5, 6, 6, 6, 7, 7, 8]\n",
      "0.00096893310546875\n"
     ]
    }
   ],
   "source": [
    "# 生成测试数组\n",
    "random.seed(0)\n",
    "N = 10\n",
    "arr = [random.randint(0, N) for x in range(N)]\n",
    "# print(arr)\n",
    "\n",
    "# 排序\n",
    "t1 = time.time()\n",
    "print(selectsort(arr))\n",
    "print(time.time()-t1)"
   ]
  },
  {
   "cell_type": "markdown",
   "metadata": {},
   "source": [
    "# 插入排序\n",
    "## 原理\n",
    "1. 0~1排序\n",
    "2. 2位置与1位置比较，如果小则交换，再与0位置比较，如果小则交换\n",
    "3. ...\n",
    "\n",
    "* 就像打扑克牌一样，往前面有序的里面比较插入\n",
    "\n",
    "## 复杂度\n",
    "* 最坏情况\n",
    "    * $O(N^2)$\n",
    "* 最好情况\n",
    "    * $O(N)$"
   ]
  },
  {
   "cell_type": "code",
   "execution_count": 6,
   "metadata": {},
   "outputs": [],
   "source": [
    "def insertsort(arr):\n",
    "    if arr is None or len(arr) < 2:\n",
    "        return arr\n",
    "    for i in range(1, len(arr)):\n",
    "        index = i-1\n",
    "        while index >=0 and arr[index+1] < arr[index]:\n",
    "#             print(arr[index], arr[index+1])\n",
    "            arr[index], arr[index+1] = arr[index+1], arr[index]\n",
    "            index -= 1\n",
    "    return arr"
   ]
  },
  {
   "cell_type": "code",
   "execution_count": 7,
   "metadata": {},
   "outputs": [
    {
     "name": "stdout",
     "output_type": "stream",
     "text": [
      "[0, 4, 4, 5, 6, 6, 6, 7, 7, 8]\n",
      "0.0\n"
     ]
    }
   ],
   "source": [
    "# 生成测试数组\n",
    "random.seed(0)\n",
    "N = 10\n",
    "arr = [random.randint(0, N) for x in range(N)]\n",
    "# print(arr)\n",
    "\n",
    "# 排序\n",
    "t1 = time.time()\n",
    "print(insertsort(arr))\n",
    "print(time.time()-t1)"
   ]
  },
  {
   "cell_type": "markdown",
   "metadata": {},
   "source": [
    "# 递归\n",
    "## 原理\n",
    "* 函数调用函数\n",
    "* 「递」的意思是将问题拆解成子问题来解决， 子问题再拆解成子子问题，...，直到被拆解的子问题无需再拆分成更细的子问题（即可以求解）\n",
    "* 「归」是说最小的子问题解决了，那么它的上一层子问题也就解决了，上一层的子问题解决了，上上层子问题自然也就解决了,....,直到最开始的问题解决\n",
    "\n",
    "## 复杂度计算\n",
    "### master公式的使用\n",
    "$$\n",
    "T(N)=a*T(\\frac{N}{b}) + O(N^d)\n",
    "$$\n",
    "1. $\\log_b{a}>d$，则复杂度为：$O(N^{\\log_b{a}})$\n",
    "2. $\\log_b{a}=d$，则复杂度为：$O(N^d*\\log_{10}{N})$\n",
    "3. $\\log_b{a}<d$，则复杂度为：$O(N^d)$"
   ]
  },
  {
   "cell_type": "markdown",
   "metadata": {},
   "source": [
    "# 归并排序\n",
    "## 原理——递归\n",
    "1. 按数组长度二分成left和right\n",
    "2. 左边排好序\n",
    "3. 右边排好序\n",
    "4. 外排的方式将左右排好序，left跟right比较，若左边小，则移动左边指针，若右边小，则移动右边指针，每次将小的值填到result\n",
    "\n",
    "## 复杂度\n",
    "$$\n",
    "T(N)=2*T(\\frac{N}{2}) + O(N)\n",
    "$$\n",
    "* 使用master公式得复杂度为$N*\\log{N}$"
   ]
  },
  {
   "cell_type": "code",
   "execution_count": 8,
   "metadata": {},
   "outputs": [],
   "source": [
    "def mergesort(arr):\n",
    "    if len(arr) < 2:\n",
    "        return arr\n",
    "    \n",
    "    mid = len(arr) // 2\n",
    "    left = mergesort(arr[:mid])\n",
    "    right = mergesort(arr[mid:])\n",
    "    result = []\n",
    "    while left and right:\n",
    "        if left[0] <= right[0]:\n",
    "            result.append(left.pop(0))\n",
    "        else:\n",
    "            result.append(right.pop(0))\n",
    "    if left:\n",
    "        result += left\n",
    "    if right:\n",
    "        result += right\n",
    "    return result"
   ]
  },
  {
   "cell_type": "code",
   "execution_count": 9,
   "metadata": {},
   "outputs": [
    {
     "name": "stdout",
     "output_type": "stream",
     "text": [
      "[6, 6, 0, 4, 8, 7, 6, 4, 7, 5]\n",
      "[0, 4, 4, 5, 6, 6, 6, 7, 7, 8]\n",
      "0.0\n"
     ]
    }
   ],
   "source": [
    "# 生成测试数组\n",
    "random.seed(0)\n",
    "N = 10\n",
    "arr = [random.randint(0, N) for x in range(N)]\n",
    "print(arr)\n",
    "\n",
    "# 排序\n",
    "t1 = time.time()\n",
    "print(mergesort(arr))\n",
    "print(time.time()-t1)"
   ]
  },
  {
   "cell_type": "markdown",
   "metadata": {},
   "source": [
    "## 小和问题\n",
    "### 题目\n",
    "\n",
    "* 在一个数组中， 每一个数左边比当前数小的数累加起来， 叫做这个数组的小和。 求一个数组的小和。\n",
    "\n",
    "* 例子：\n",
    "    * [1,3,4,2,5]\n",
    "    \n",
    "    - 1左边比1小的数， 没有；\n",
    "    - 3左边比3小的数， 1；\n",
    "    - 4左边比4小的数， 1、 3；\n",
    "    - 2左边比2小的数， 1；\n",
    "    - 5左边比5小的数， 1、 3、 4、 2；\n",
    "    \n",
    "    * 所以小和为1+1+3+1+1+3+4+2=16\n",
    "* 思路一：\n",
    "    * 暴力解法，两个for循环，复杂度$O(N^2)$\n",
    "\n",
    "* 思路二：\n",
    "    * 递归-归并排序的扩展\n",
    "    * 反过来看，当前数右边有多少数比它大，则对应小和=当前数*比它大的数量"
   ]
  },
  {
   "cell_type": "code",
   "execution_count": 10,
   "metadata": {},
   "outputs": [],
   "source": [
    "def minsum(arr):\n",
    "    if len(arr) < 2:\n",
    "        return arr, 0\n",
    "    result = []\n",
    "    smallsum = 0\n",
    "    mid = len(arr) // 2\n",
    "    left, smallsum_l = minsum(arr[:mid])\n",
    "    right, smallsum_r = minsum(arr[mid:])\n",
    "    while left and right:\n",
    "        if left[0] < right[0]:\n",
    "            smallsum += left[0] * len(right)\n",
    "            result.append(left.pop(0))\n",
    "        else:\n",
    "            result.append(right.pop(0))\n",
    "    if left:\n",
    "        result += left\n",
    "    if right:\n",
    "        result += right\n",
    "    smallsum  = smallsum + smallsum_l + smallsum_r\n",
    "    return result, smallsum"
   ]
  },
  {
   "cell_type": "code",
   "execution_count": 11,
   "metadata": {},
   "outputs": [
    {
     "name": "stdout",
     "output_type": "stream",
     "text": [
      "[1, 3, 4, 2, 5]\n",
      "[1, 2, 3, 4, 5]\n",
      "16\n",
      "0.0\n"
     ]
    }
   ],
   "source": [
    "# 生成测试数组\n",
    "random.seed(0)\n",
    "N = 10\n",
    "# arr = [random.randint(0, N) for x in range(N)]\n",
    "arr = [1,3,4,2,5]\n",
    "print(arr)\n",
    "\n",
    "# 排序\n",
    "t1 = time.time()\n",
    "arr, smallsum = minsum(arr)\n",
    "print(arr)\n",
    "print(smallsum)\n",
    "print(time.time()-t1)"
   ]
  },
  {
   "cell_type": "markdown",
   "metadata": {},
   "source": [
    "# 快速排序\n",
    "## 原理\n",
    "1. 选定数组最后一个元素，记为`x`\n",
    "2. 将数组按`x`，将$<=x$的数放在左边，记为`left`\n",
    "3. 将$>x$的数放在右边，记为`right`\n",
    "4. 对`left`和`right`重复上述操作"
   ]
  },
  {
   "cell_type": "code",
   "execution_count": null,
   "metadata": {},
   "outputs": [],
   "source": []
  }
 ],
 "metadata": {
  "kernelspec": {
   "display_name": "Python 3",
   "language": "python",
   "name": "python3"
  },
  "language_info": {
   "codemirror_mode": {
    "name": "ipython",
    "version": 3
   },
   "file_extension": ".py",
   "mimetype": "text/x-python",
   "name": "python",
   "nbconvert_exporter": "python",
   "pygments_lexer": "ipython3",
   "version": "3.6.8"
  }
 },
 "nbformat": 4,
 "nbformat_minor": 4
}
