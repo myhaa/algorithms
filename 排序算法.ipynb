{
 "cells": [
  {
   "cell_type": "markdown",
   "metadata": {},
   "source": [
    "# 生成测试数组"
   ]
  },
  {
   "cell_type": "code",
   "execution_count": 20,
   "metadata": {},
   "outputs": [],
   "source": [
    "import time\n",
    "import random\n",
    "random.seed(0)\n",
    "N = 1000\n",
    "arr = [random.randint(0, N) for x in range(N)]\n",
    "# print(arr)"
   ]
  },
  {
   "cell_type": "markdown",
   "metadata": {},
   "source": [
    "# 冒泡排序\n",
    "## 原理\n",
    "1. 0~N-1位置找最大值放N-1位置\n",
    "2. 0~N-2位置找最大值放N-2位置\n",
    "3. ...\n",
    "\n",
    "## 复杂度\n",
    "* $O(N^2)$"
   ]
  },
  {
   "cell_type": "code",
   "execution_count": 21,
   "metadata": {},
   "outputs": [],
   "source": [
    "# 正确解法\n",
    "def bubblesort(arr):\n",
    "    if arr is None or len(arr) < 2:\n",
    "        return arr\n",
    "    for i in range(len(arr)-1, 0, -1):  # 从末端依次递减，与找到的最大值交换\n",
    "        for j in range(0, i):  # 已交换过的位置不需要再遍历\n",
    "            if arr[i] < arr[j]:\n",
    "                temp = arr[i]\n",
    "                arr[i] = arr[j]\n",
    "                arr[j] = temp\n",
    "    return arr"
   ]
  },
  {
   "cell_type": "code",
   "execution_count": 22,
   "metadata": {},
   "outputs": [
    {
     "name": "stdout",
     "output_type": "stream",
     "text": [
      "[1, 1]\n",
      "0.0\n"
     ]
    }
   ],
   "source": [
    "t1 = time.time()\n",
    "print(bubblesort(arr))\n",
    "print(time.time()-t1)"
   ]
  },
  {
   "cell_type": "markdown",
   "metadata": {},
   "source": [
    "# 选择排序\n",
    "## 原理\n",
    "1. 0~N-1位置找最小放到0位置\n",
    "2. 1~N-1位置找最小放到1位置\n",
    "3. ...\n",
    "\n",
    "## 复杂度\n",
    "* $O(N^2)$"
   ]
  },
  {
   "cell_type": "code",
   "execution_count": null,
   "metadata": {},
   "outputs": [],
   "source": [
    "def selectsort(arr):\n",
    "    pass"
   ]
  }
 ],
 "metadata": {
  "kernelspec": {
   "display_name": "Python 3",
   "language": "python",
   "name": "python3"
  },
  "language_info": {
   "codemirror_mode": {
    "name": "ipython",
    "version": 3
   },
   "file_extension": ".py",
   "mimetype": "text/x-python",
   "name": "python",
   "nbconvert_exporter": "python",
   "pygments_lexer": "ipython3",
   "version": "3.6.2"
  }
 },
 "nbformat": 4,
 "nbformat_minor": 4
}
