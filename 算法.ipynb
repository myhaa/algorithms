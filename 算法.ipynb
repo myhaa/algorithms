{
 "cells": [
  {
   "cell_type": "markdown",
   "metadata": {},
   "source": [
    "# 时间复杂度\n",
    "\n",
    "* 常数时间的操作：\n",
    "    * 一个操作和数据量没有关系\n",
    "    * 每次都是固定时间完成\n",
    "* 时间复杂度：\n",
    "    * 是一个函数，它定性描述该算法的运行时间。 \n",
    "    * 常用大O符号表述，不包括这个函数的低阶项和首项系数。 \n",
    "    * 使用这种方式时，时间复杂度可被称为是渐近的\n",
    "* 根据时间复杂度评价一个算法流程好坏：\n",
    "    * 先看高阶项\n",
    "    * 再看常数项\n",
    "\n",
    "## 时间复杂度例子\n",
    "\n",
    "* 一个有序数组A，另一个无序数组B，请打印B中所有不在A中的数，A数组长度为N，B数组长度为M。"
   ]
  },
  {
   "cell_type": "code",
   "execution_count": 1,
   "metadata": {},
   "outputs": [
    {
     "name": "stdout",
     "output_type": "stream",
     "text": [
      "A:  [0, 1, 2, 3, 4, 5, 6, 7, 8, 9]\n",
      "B:  [16, 10, 22, 24, 14, 5, 21, 6, 20, 11, 15, 18, 19, 17, 12, 8, 13, 7, 23, 9]\n"
     ]
    }
   ],
   "source": [
    "N = 10\n",
    "M = 20\n",
    "A = list(range(N))\n",
    "B = list(range(5, 5+M))\n",
    "\n",
    "import random\n",
    "\n",
    "random.seed(1)\n",
    "random.shuffle(B)\n",
    "\n",
    "print(\"A: \", A)\n",
    "print(\"B: \", B)"
   ]
  },
  {
   "cell_type": "markdown",
   "metadata": {},
   "source": [
    "### 算法1\n",
    "\n",
    "* 对于数组B中的每个数，都在A中通过遍历的方式找一下\n",
    "* 时间复杂度：\n",
    "    * O(N*M)"
   ]
  },
  {
   "cell_type": "code",
   "execution_count": 2,
   "metadata": {},
   "outputs": [],
   "source": [
    "def a1(A, B):\n",
    "    result = []\n",
    "    for x in B:\n",
    "        flag = 0\n",
    "        for y in A:\n",
    "            if x == y:\n",
    "                flag = 1\n",
    "        if flag == 0:\n",
    "            result.append(x)\n",
    "    print(\"result: \", result)"
   ]
  },
  {
   "cell_type": "code",
   "execution_count": 3,
   "metadata": {},
   "outputs": [
    {
     "name": "stdout",
     "output_type": "stream",
     "text": [
      "result:  [16, 10, 22, 24, 14, 21, 20, 11, 15, 18, 19, 17, 12, 13, 23]\n"
     ]
    }
   ],
   "source": [
    "a1(A, B)"
   ]
  },
  {
   "cell_type": "markdown",
   "metadata": {},
   "source": [
    "### 算法2\n",
    "\n",
    "* 对于数组B中的每一个数，都在A中通过二分的方式找一下\n",
    "* 时间复杂度：\n",
    "    * O($M*log_2(N)$)，简称$M*log(N)$"
   ]
  },
  {
   "cell_type": "code",
   "execution_count": 4,
   "metadata": {},
   "outputs": [],
   "source": [
    "def tmp(A, x):\n",
    "    if len(A) == 1:\n",
    "        if x == A[0]:\n",
    "            return 1\n",
    "        else:\n",
    "            return 0\n",
    "    mid = int(len(A) / 2)\n",
    "    return tmp(A[:mid], x) + tmp(A[mid:], x)\n",
    "\n",
    "def a2(A, B):\n",
    "    result = []\n",
    "    for x in B:\n",
    "        if tmp(A, x) == 0:\n",
    "            result.append(x)\n",
    "    print(\"result: \", result)"
   ]
  },
  {
   "cell_type": "code",
   "execution_count": 5,
   "metadata": {},
   "outputs": [
    {
     "name": "stdout",
     "output_type": "stream",
     "text": [
      "result:  [16, 10, 22, 24, 14, 21, 20, 11, 15, 18, 19, 17, 12, 13, 23]\n"
     ]
    }
   ],
   "source": [
    "a2(A, B)"
   ]
  },
  {
   "cell_type": "markdown",
   "metadata": {},
   "source": [
    "### 算法3\n",
    "\n",
    "* 先把数组B排序，然后用类似外排的方式打印所有不在A中出现的数\n",
    "* 时间复杂度\n",
    "    * O(N+M)"
   ]
  },
  {
   "cell_type": "code",
   "execution_count": 6,
   "metadata": {},
   "outputs": [],
   "source": [
    "def a3(A, B):\n",
    "    result = []\n",
    "    \n",
    "    # 对数组B排序\n",
    "    C = sorted(B)\n",
    "    \n",
    "    # 外排的方式\n",
    "    i = 0\n",
    "    j = 0\n",
    "    while(i < len(A) and j < len(C)):\n",
    "        if A[i] < C[j]:\n",
    "            i += 1\n",
    "        elif A[i] == C[j]:\n",
    "            j += 1\n",
    "        else:\n",
    "            result.append(C[j])\n",
    "            j += 1\n",
    "    result.extend(C[j:])\n",
    "    return result"
   ]
  },
  {
   "cell_type": "code",
   "execution_count": 7,
   "metadata": {},
   "outputs": [
    {
     "data": {
      "text/plain": [
       "[0, 4]"
      ]
     },
     "execution_count": 7,
     "metadata": {},
     "output_type": "execute_result"
    }
   ],
   "source": [
    "A = [3,5,7,9,11]\n",
    "B = [0, 7, 4, 9]\n",
    "a3(A, B)"
   ]
  },
  {
   "cell_type": "markdown",
   "metadata": {},
   "source": [
    "# 对数器\n",
    "\n",
    "## 概念和使用\n",
    "\n",
    "1. 有一个你想要测试的方法A\n",
    "2. 实现一个绝对正确但是复杂度不好的方法B\n",
    "3. 实现一个随机样本产生器\n",
    "4. 实现对比的方法\n",
    "5. 把方法A和方法B比对很多次来验证方法A是否正确\n",
    "6. 如果有一个样本使得对比出错，打印样本分析是哪个方法出错\n",
    "7. 当样本数量很多时对比测试依然正确，可以确定方法A已经正确了"
   ]
  },
  {
   "cell_type": "code",
   "execution_count": 8,
   "metadata": {},
   "outputs": [],
   "source": [
    "import random\n",
    "\n",
    "def randomArr(size):\n",
    "    arr = list(range(size, size*2))\n",
    "    random.shuffle(arr)\n",
    "    return arr\n",
    "\n",
    "def compareMethod(m1, m2, arr):\n",
    "    if m1(arr) == m2(arr):\n",
    "        return True\n",
    "    return False"
   ]
  },
  {
   "cell_type": "markdown",
   "metadata": {},
   "source": [
    "# 冒泡排序\n",
    "\n",
    "## 原理\n",
    "\n",
    "1. 两层for循环\n",
    "2. 第一层循环end从N到1\n",
    "3. 第二层循环i从0到end\n",
    "4. 每次比较i,i+1位置\n",
    "5. 这样最大的值每次都到end\n",
    "\n",
    "## 复杂度\n",
    "* 时间复杂度：$O(N^2)$\n",
    "* 额外空间复杂度：$O(1)$\n",
    "\n",
    "## python实现"
   ]
  },
  {
   "cell_type": "code",
   "execution_count": 9,
   "metadata": {},
   "outputs": [],
   "source": [
    "def bubbleSort(arr):\n",
    "    arrLen = len(arr)\n",
    "    if arrLen <= 1:\n",
    "        return arr\n",
    "    for end in range(arrLen-1, 1, -1):\n",
    "        for i in range(end):\n",
    "            if arr[i] > arr[i+1]:\n",
    "                arr[i], arr[i+1] = arr[i+1], arr[i]\n",
    "    return arr"
   ]
  },
  {
   "cell_type": "code",
   "execution_count": 10,
   "metadata": {},
   "outputs": [
    {
     "name": "stdout",
     "output_type": "stream",
     "text": [
      "[11, 16, 19, 15, 12, 10, 18, 13, 14, 17]\n",
      "[10, 11, 12, 13, 14, 15, 16, 17, 18, 19]\n",
      "True\n"
     ]
    }
   ],
   "source": [
    "arr = randomArr(10)\n",
    "print(arr)\n",
    "print(bubbleSort(arr))\n",
    "print(compareMethod(bubbleSort, sorted, arr))"
   ]
  },
  {
   "cell_type": "markdown",
   "metadata": {},
   "source": [
    "# 选择排序\n",
    "\n",
    "## 原理\n",
    "\n",
    "1. 两层for循环\n",
    "2. 第一层循环i从0到N-1\n",
    "3. 第二层循环j从i+1到N\n",
    "4. 每次找到最小值放到i位置\n",
    "\n",
    "## 复杂度\n",
    "\n",
    "* 时间复杂度：$O(N^2)$\n",
    "* 额外空间复杂度：$O(1)$\n",
    "\n",
    "## python实现"
   ]
  },
  {
   "cell_type": "code",
   "execution_count": 11,
   "metadata": {},
   "outputs": [],
   "source": [
    "def selectionSort(arr):\n",
    "    arrLen = len(arr)\n",
    "    if arrLen <= 1:\n",
    "        return arr\n",
    "    for i in range(arrLen-1):\n",
    "        minIndex = i\n",
    "        for j in range(i+1, arrLen):\n",
    "            minIndex = j if arr[j] < arr[minIndex] else minIndex\n",
    "        if i != minIndex:\n",
    "            arr[i], arr[minIndex] = arr[minIndex], arr[i]\n",
    "    return arr"
   ]
  },
  {
   "cell_type": "code",
   "execution_count": 12,
   "metadata": {},
   "outputs": [
    {
     "name": "stdout",
     "output_type": "stream",
     "text": [
      "[36, 35, 24, 29, 25, 21, 22, 34, 39, 30, 27, 23, 28, 38, 31, 33, 26, 32, 20, 37]\n",
      "[20, 21, 22, 23, 24, 25, 26, 27, 28, 29, 30, 31, 32, 33, 34, 35, 36, 37, 38, 39]\n",
      "True\n"
     ]
    }
   ],
   "source": [
    "arr = randomArr(20)\n",
    "print(arr)\n",
    "print(selectionSort(arr))\n",
    "print(compareMethod(selectionSort, sorted, arr))"
   ]
  },
  {
   "cell_type": "markdown",
   "metadata": {},
   "source": [
    "# 插入排序\n",
    "\n",
    "## 原理\n",
    "\n",
    "1. 像打扑克一样\n",
    "2. 0-1排序\n",
    "3. 0-2排序\n",
    "4. 0-N排序\n",
    "\n",
    "## 复杂度\n",
    "\n",
    "* 时间复杂度：\n",
    "    * 最好情况：$O(N)$\n",
    "    * 最坏情况：$O(N^2)$\n",
    "* 额外空间复杂度：$O(1)$\n",
    "\n",
    "## python实现"
   ]
  },
  {
   "cell_type": "code",
   "execution_count": 13,
   "metadata": {},
   "outputs": [],
   "source": [
    "def insertSort(arr):\n",
    "    arrLen = len(arr)\n",
    "    if arrLen <= 1:\n",
    "        return arr\n",
    "    for i in range(1, arrLen):\n",
    "        for j in range(i-1, -1, -1):\n",
    "            if arr[j] > arr[j+1]:\n",
    "                arr[j], arr[j+1] = arr[j+1], arr[j]\n",
    "    return arr"
   ]
  },
  {
   "cell_type": "code",
   "execution_count": 14,
   "metadata": {},
   "outputs": [
    {
     "name": "stdout",
     "output_type": "stream",
     "text": [
      "[53, 41, 32, 44, 51, 54, 31, 42, 30, 48, 57, 38, 37, 45, 34, 52, 36, 49, 59, 46, 40, 55, 39, 58, 35, 33, 50, 47, 56, 43]\n",
      "[30, 31, 32, 33, 34, 35, 36, 37, 38, 39, 40, 41, 42, 43, 44, 45, 46, 47, 48, 49, 50, 51, 52, 53, 54, 55, 56, 57, 58, 59]\n",
      "True\n"
     ]
    }
   ],
   "source": [
    "arr = randomArr(30)\n",
    "print(arr)\n",
    "print(insertSort(arr))\n",
    "print(compareMethod(insertSort, sorted, arr))"
   ]
  },
  {
   "cell_type": "markdown",
   "metadata": {},
   "source": [
    "# 递归\n",
    "\n",
    "## 递归的时间复杂度估计：master公式\n",
    "\n",
    "$$\n",
    "T(N) = a*T(N/b) + O(N^d)\n",
    "$$\n",
    "\n",
    "1. if $log(b, a) > d$, $O(N^{log(b, a)})$\n",
    "2. if $log(b, a) = d$, $O(N^d * log(N))$\n",
    "3. if $log(b, a) < d$, $O(N^d)$\n",
    "\n",
    "# 归并排序\n",
    "\n",
    "## 原理\n",
    "\n",
    "1. 每次二分\n",
    "2. 左边排好序，右边排好序\n",
    "3. 将左边与右边一起排好序\n",
    "\n",
    "## 复杂度\n",
    "\n",
    "$$\n",
    "T(N) = 2*T(N/2) + O(N)\n",
    "$$\n",
    "\n",
    "* 使用master公式，得时间复杂度为：$O(N*log(N))$\n",
    "\n",
    "## python实现"
   ]
  },
  {
   "cell_type": "code",
   "execution_count": 15,
   "metadata": {},
   "outputs": [],
   "source": [
    "def mergeSort(arr):\n",
    "    if len(arr) < 2:\n",
    "        return arr\n",
    "    \n",
    "    mid = len(arr) // 2\n",
    "    left = mergeSort(arr[:mid])\n",
    "    right = mergeSort(arr[mid:])\n",
    "    result = []\n",
    "    while left and right:\n",
    "        if left[0] <= right[0]:\n",
    "            result.append(left.pop(0))\n",
    "        else:\n",
    "            result.append(right.pop(0))\n",
    "    if left:\n",
    "        result += left\n",
    "    if right:\n",
    "        result += right\n",
    "    return result"
   ]
  },
  {
   "cell_type": "code",
   "execution_count": 16,
   "metadata": {},
   "outputs": [
    {
     "name": "stdout",
     "output_type": "stream",
     "text": [
      "[48, 43, 49, 40, 38, 39, 31, 57, 36, 34, 58, 55, 30, 45, 37, 56, 42, 50, 35, 33, 46, 44, 32, 59, 53, 51, 54, 52, 47, 41]\n",
      "[30, 31, 32, 33, 34, 35, 36, 37, 38, 39, 40, 41, 42, 43, 44, 45, 46, 47, 48, 49, 50, 51, 52, 53, 54, 55, 56, 57, 58, 59]\n",
      "True\n"
     ]
    }
   ],
   "source": [
    "arr = randomArr(30)\n",
    "print(arr)\n",
    "print(mergeSort(arr))\n",
    "print(compareMethod(mergeSort, sorted, arr))"
   ]
  },
  {
   "cell_type": "markdown",
   "metadata": {},
   "source": [
    "# 小和问题\n",
    "\n",
    "## 问题\n",
    "\n",
    "在一个数组中，每一个数左边比当前数小的数累加起来，叫做这个数组的小和。求一个数组\n",
    "的小和。\n",
    "\n",
    "例子：\n",
    "\n",
    "[1,3,4,2,5]\n",
    "\n",
    "1左边比1小的数，没有；\n",
    "\n",
    "3左边比3小的数，1；\n",
    "\n",
    "4左边比4小的数，1、3；\n",
    "\n",
    "2左边比2小的数，1；\n",
    "\n",
    "5左边比5小的数，1、3、4、2；\n",
    "\n",
    "所以小和为1+1+3+1+1+3+4+2=16\n",
    "\n",
    "## 思路\n",
    "\n",
    "* 递归算法\n",
    "\n",
    "## python实现"
   ]
  },
  {
   "cell_type": "code",
   "execution_count": 17,
   "metadata": {},
   "outputs": [],
   "source": [
    "def smallSum(arr):\n",
    "    if len(arr) < 2:\n",
    "        return arr, 0\n",
    "    result = []\n",
    "    smallsum = 0\n",
    "    mid = len(arr) // 2\n",
    "    left, smallsum_l = smallSum(arr[:mid])\n",
    "    right, smallsum_r = smallSum(arr[mid:])\n",
    "    while left and right:\n",
    "        if left[0] < right[0]:\n",
    "            smallsum += left[0] * len(right)\n",
    "            result.append(left.pop(0))\n",
    "        else:\n",
    "            result.append(right.pop(0))\n",
    "    if left:\n",
    "        result += left\n",
    "    if right:\n",
    "        result += right\n",
    "    smallsum  = smallsum + smallsum_l + smallsum_r\n",
    "    return result, smallsum"
   ]
  },
  {
   "cell_type": "code",
   "execution_count": 18,
   "metadata": {},
   "outputs": [
    {
     "data": {
      "text/plain": [
       "16"
      ]
     },
     "execution_count": 18,
     "metadata": {},
     "output_type": "execute_result"
    }
   ],
   "source": [
    "arr = [1,3,4,2,5]\n",
    "smallSum(arr)[1]"
   ]
  },
  {
   "cell_type": "markdown",
   "metadata": {},
   "source": [
    "# 逆序对问题\n",
    "\n",
    "## 问题\n",
    "\n",
    "在一个数组中，左边的数如果比右边的数大，则两个数构成一个逆序对，请打印所有逆序对。\n",
    "\n",
    "## 思路\n",
    "\n",
    "* 递归算法\n",
    "\n",
    "## python实现"
   ]
  },
  {
   "cell_type": "code",
   "execution_count": 19,
   "metadata": {},
   "outputs": [],
   "source": [
    "def reversePair(arr):\n",
    "    if len(arr) < 2:\n",
    "        return arr, []\n",
    "    result = []\n",
    "    pair = []\n",
    "    mid = len(arr) // 2\n",
    "    left, pair_l = reversePair(arr[:mid])\n",
    "    right, pair_r = reversePair(arr[mid:])\n",
    "    while left and right:\n",
    "        if left[0] <= right[0]:\n",
    "            result.append(left.pop(0))\n",
    "        else:\n",
    "            pair.append((left[0], right[0]))\n",
    "            result.append(right.pop(0))\n",
    "    if left:\n",
    "        result += left\n",
    "    if right:\n",
    "        result += right\n",
    "    return result, pair + pair_l + pair_r"
   ]
  },
  {
   "cell_type": "code",
   "execution_count": 20,
   "metadata": {},
   "outputs": [
    {
     "data": {
      "text/plain": [
       "[(3, 2), (4, 2)]"
      ]
     },
     "execution_count": 20,
     "metadata": {},
     "output_type": "execute_result"
    }
   ],
   "source": [
    "arr = [1,3,4,2,5]\n",
    "reversePair(arr)[1]"
   ]
  },
  {
   "cell_type": "markdown",
   "metadata": {},
   "source": [
    "# 讲快排之前的问题一\n",
    "\n",
    "## 问题\n",
    "\n",
    "* 给定一个数组arr，和一个数num，请把小于等于num的数放在数组的左边，大于num的数放在数组的右边。\n",
    "\n",
    "## 思路\n",
    "\n",
    "1. 设置小于等于num的区域i\n",
    "2. 遍历，\n",
    "    1. 如果当前数小于num，则将当前数与小于区域的下一个数交换，小于区域跳下一个\n",
    "    2. 如果当前数大于num，则继续遍历\n",
    "\n",
    "## python实现"
   ]
  },
  {
   "cell_type": "code",
   "execution_count": 21,
   "metadata": {},
   "outputs": [],
   "source": [
    "def splitArr(arr, num):\n",
    "    arrLen = len(arr)\n",
    "    if arrLen <= 1:\n",
    "        return arr\n",
    "    less = -1\n",
    "    for i in range(arrLen):\n",
    "        if arr[i] <= num:\n",
    "            arr[i], arr[less+1] = arr[less+1], arr[i]\n",
    "            less += 1\n",
    "    return arr"
   ]
  },
  {
   "cell_type": "code",
   "execution_count": 22,
   "metadata": {},
   "outputs": [
    {
     "name": "stdout",
     "output_type": "stream",
     "text": [
      "[5, 6, 9, 7, 8]\n",
      "[5, 6, 9, 7, 8]\n"
     ]
    }
   ],
   "source": [
    "arr = randomArr(5)\n",
    "print(arr)\n",
    "print(splitArr(arr, 6))"
   ]
  },
  {
   "cell_type": "markdown",
   "metadata": {},
   "source": [
    "# 荷兰国旗问题\n",
    "\n",
    "## 问题\n",
    "\n",
    "* 给定一个数组arr，和一个数num，请把小于num的数放在数组的左边，等于num的数放在数组的中间，大于num的数放在数组的右边。\n",
    "\n",
    "\n",
    "## 思路\n",
    "\n",
    "1. 划一个小于区域，划一个大于区域\n",
    "2. 循环，如果i<right：\n",
    "    1. 如果当前数等于num，直接跳下一个\n",
    "    2. 如果当前数小于num，则将当前数与小于区域的下一个数交换，小于区域跳下一个\n",
    "    3. 如果当前数大于num，则将当前数与大于区域的前一个数交换，大于区域往前跳一个，再判断当前数是等于num，还是小于num\n",
    "\n",
    "## python实现"
   ]
  },
  {
   "cell_type": "code",
   "execution_count": 23,
   "metadata": {},
   "outputs": [],
   "source": [
    "def netherLandsFlag(arr, num):\n",
    "    arrLen = len(arr)\n",
    "    if arrLen <= 1:\n",
    "        return arr\n",
    "    less = -1\n",
    "    right = arrLen\n",
    "    i = 0\n",
    "    while i < right:\n",
    "        if arr[i] == num:\n",
    "            i += 1\n",
    "        elif arr[i] < num:\n",
    "            arr[i], arr[less+1] = arr[less+1], arr[i]\n",
    "            less += 1\n",
    "            i += 1\n",
    "        else:\n",
    "            arr[i], arr[right-1] = arr[right-1], arr[i]\n",
    "            right -= 1\n",
    "    return arr, less+1, right-1"
   ]
  },
  {
   "cell_type": "code",
   "execution_count": 24,
   "metadata": {},
   "outputs": [
    {
     "name": "stdout",
     "output_type": "stream",
     "text": [
      "[5, 6, 6, 7, 4, 4, 4, 3, 2, 2, 1]\n",
      "2 ([1, 2, 2, 4, 4, 4, 3, 7, 6, 6, 5], 1, 2)\n",
      "3 ([1, 2, 2, 3, 4, 4, 7, 6, 6, 5, 4], 3, 3)\n",
      "4 ([1, 2, 2, 3, 4, 4, 4, 6, 5, 6, 7], 4, 6)\n",
      "5 ([1, 2, 2, 3, 4, 4, 4, 5, 6, 7, 6], 7, 7)\n",
      "6 ([1, 2, 2, 3, 4, 4, 4, 5, 6, 6, 7], 8, 9)\n"
     ]
    }
   ],
   "source": [
    "arr = [5,6,6,7,4,4,4,3,2,2,1]\n",
    "print(arr)\n",
    "print(2, netherLandsFlag(arr, 2))\n",
    "print(3, netherLandsFlag(arr, 3))\n",
    "print(4, netherLandsFlag(arr, 4))\n",
    "print(5, netherLandsFlag(arr, 5))\n",
    "print(6, netherLandsFlag(arr, 6))"
   ]
  },
  {
   "cell_type": "markdown",
   "metadata": {},
   "source": [
    "# 快速排序\n",
    "\n",
    "## 经典快排\n",
    "\n",
    "### 思路\n",
    "\n",
    "1. 选取最后一个数x，将数组划分成小于等于x区域和大于x区域\n",
    "2. 再从小于等于区域、大于区域选取最后一个数，递归\n",
    "\n",
    "## 快排\n",
    "\n",
    "### 思路\n",
    "\n",
    "1. 选取最后一个数x，将数组划分成小于x区域，等于x区域和大于x区域\n",
    "2. 再从小于区域、大于区域选取最后一个数，递归\n",
    "\n",
    "## 快排python实现"
   ]
  },
  {
   "cell_type": "code",
   "execution_count": 25,
   "metadata": {},
   "outputs": [],
   "source": [
    "def partition(arr, num):\n",
    "    arrLen = len(arr)\n",
    "    if arrLen <= 1:\n",
    "        return arr, 0, 0\n",
    "    left = -1\n",
    "    cur = 0\n",
    "    right = arrLen\n",
    "    while cur < right:\n",
    "        if arr[cur] < num:\n",
    "            arr[left+1], arr[cur] = arr[cur], arr[left+1]\n",
    "            cur += 1\n",
    "            left += 1\n",
    "        elif arr[cur] == num:\n",
    "            cur += 1\n",
    "        else:\n",
    "            arr[right-1], arr[cur] = arr[cur], arr[right-1]\n",
    "            right -= 1\n",
    "    return arr, left+1, right-1\n",
    "            \n",
    "\n",
    "def quickSort(arr):\n",
    "    arrLen = len(arr)\n",
    "    if arrLen <= 1:\n",
    "        return arr\n",
    "    arr, left, right = partition(arr, arr[-1])\n",
    "    return quickSort(arr[:left]) + arr[left:right+1] + quickSort(arr[right+1:])"
   ]
  },
  {
   "cell_type": "code",
   "execution_count": 26,
   "metadata": {},
   "outputs": [
    {
     "name": "stdout",
     "output_type": "stream",
     "text": [
      "[16, 19, 12, 11, 18, 15, 13, 10, 14, 17]\n",
      "[10, 11, 12, 13, 14, 15, 16, 17, 18, 19]\n",
      "True\n"
     ]
    }
   ],
   "source": [
    "arr = randomArr(10)\n",
    "print(arr)\n",
    "print(quickSort(arr))\n",
    "print(compareMethod(quickSort, sorted, arr))"
   ]
  },
  {
   "cell_type": "markdown",
   "metadata": {},
   "source": [
    "# 随机快速排序\n",
    "\n",
    "## 思路\n",
    "\n",
    "1. 随机选取一个数，与最后一个数交换\n",
    "2. 然后跟经典快排一样，划分小于、等于、大于区域\n",
    "3. 递归\n",
    "\n",
    "## 复杂度\n",
    "\n",
    "* 时间复杂度：$O(N*log(N))$\n",
    "* 空间复杂度：$O(log(N))$\n",
    "\n",
    "## python实现"
   ]
  },
  {
   "cell_type": "code",
   "execution_count": 27,
   "metadata": {},
   "outputs": [],
   "source": [
    "def partitionNew(arr, num):\n",
    "    lenArr = len(arr)\n",
    "    if lenArr <= 1:\n",
    "        return arr, 0, 0\n",
    "    left = -1\n",
    "    cur = 0\n",
    "    right = lenArr\n",
    "    while cur < right:\n",
    "        if arr[cur] < num:\n",
    "            arr[left+1], arr[cur] = arr[cur], arr[left+1]\n",
    "            left += 1\n",
    "            cur += 1\n",
    "        elif arr[cur] == num:\n",
    "            cur += 1\n",
    "        else:\n",
    "            arr[right-1], arr[cur] = arr[cur], arr[right-1]\n",
    "            right -= 1\n",
    "    return arr, left+1, right-1\n",
    "\n",
    "def randomQuickSort(arr):\n",
    "    lenArr = len(arr)\n",
    "    if lenArr <= 1:\n",
    "        return arr\n",
    "    import random\n",
    "    index = random.choice(range(lenArr))\n",
    "    arr[index], arr[-1] = arr[-1], arr[index]\n",
    "    arr, left, right = partitionNew(arr, arr[-1])\n",
    "    return randomQuickSort(arr[:left]) + arr[left:right+1] + randomQuickSort(arr[right+1:])"
   ]
  },
  {
   "cell_type": "code",
   "execution_count": 28,
   "metadata": {},
   "outputs": [
    {
     "name": "stdout",
     "output_type": "stream",
     "text": [
      "[18, 13, 15, 11, 14, 12, 19, 17, 10, 16]\n",
      "[10, 11, 12, 13, 14, 15, 16, 17, 18, 19]\n",
      "True\n"
     ]
    }
   ],
   "source": [
    "arr = randomArr(10)\n",
    "print(arr)\n",
    "print(randomQuickSort(arr))\n",
    "print(compareMethod(randomQuickSort, sorted, arr))"
   ]
  },
  {
   "cell_type": "code",
   "execution_count": 29,
   "metadata": {},
   "outputs": [
    {
     "data": {
      "text/plain": [
       "[0, 1, 2, 3, 4, 5, 6, 7, 8]"
      ]
     },
     "execution_count": 29,
     "metadata": {},
     "output_type": "execute_result"
    }
   ],
   "source": [
    "list(range(10))[:-1]"
   ]
  },
  {
   "cell_type": "markdown",
   "metadata": {},
   "source": [
    "# 堆排序\n",
    "\n",
    "## 完全二叉树\n",
    "\n",
    "* 左右子树高度相差不大于1\n",
    "* 从上至下，从左至右\n",
    "\n",
    "## 满二叉树\n",
    "\n",
    "* 深度为k的时候，有$2^k$个叶子节点\n",
    "\n",
    "## 堆\n",
    "\n",
    "* 堆通常是一个可以被看做一棵完全二叉树的数组对象\n",
    "\n",
    "## 大根堆\n",
    "\n",
    "* 父节点大于等于子节点\n",
    "\n",
    "## 小根堆\n",
    "\n",
    "* 父节点小于等于子节点\n",
    "\n",
    "## python实现将数组建立成大根堆的代码"
   ]
  },
  {
   "cell_type": "code",
   "execution_count": 30,
   "metadata": {},
   "outputs": [],
   "source": [
    "def HeapInsert(arr, i):\n",
    "    while (i-1)//2 >= 0 and arr[i] > arr[(i-1)//2]:\n",
    "        tmp = (i-1)//2\n",
    "        arr[i], arr[tmp] = arr[tmp], arr[i]\n",
    "        i = tmp\n",
    "\n",
    "def MaxHeap(arr):\n",
    "    arrLen = len(arr)\n",
    "    if arrLen <= 1:\n",
    "        return arr\n",
    "    for i in range(1, arrLen):\n",
    "        HeapInsert(arr, i)\n",
    "    return arr"
   ]
  },
  {
   "cell_type": "code",
   "execution_count": 31,
   "metadata": {},
   "outputs": [
    {
     "name": "stdout",
     "output_type": "stream",
     "text": [
      "[17, 13, 15, 10, 19, 14, 16, 11, 12, 18]\n",
      "[19, 18, 16, 12, 17, 14, 15, 10, 11, 13]\n"
     ]
    }
   ],
   "source": [
    "arr = randomArr(10)\n",
    "print(arr)\n",
    "print(MaxHeap(arr))"
   ]
  },
  {
   "cell_type": "markdown",
   "metadata": {},
   "source": [
    "## python 实现堆排序\n",
    "\n",
    "### 思路\n",
    "\n",
    "1. 首先建立大根堆或者小根堆\n",
    "2. 然后将堆顶元素与最后一个元素交换，heapSize-1\n",
    "3. 再将0~heapSize的元素重新调整为大根堆或小根堆\n",
    "4. 重复以上\n",
    "\n",
    "### 复杂度\n",
    "\n",
    "* 时间复杂度：$O(N\\times log(N))$\n",
    "* 空间复杂度：$O(1)$\n",
    "\n",
    "### 实现"
   ]
  },
  {
   "cell_type": "code",
   "execution_count": 32,
   "metadata": {},
   "outputs": [],
   "source": [
    "def HeapInsert(arr, i):\n",
    "    \"\"\"\n",
    "    生成大（小）根堆\n",
    "    \"\"\"\n",
    "    while (i-1)//2 >= 0 and arr[i] > arr[(i-1)//2]:\n",
    "        tmp = (i-1)//2\n",
    "        arr[i], arr[tmp] = arr[tmp], arr[i]\n",
    "        i = tmp\n",
    "    return None\n",
    "\n",
    "def Heapify(arr, index, heapSize):\n",
    "    \"\"\"\n",
    "    调整新数组为大小根堆\n",
    "    \"\"\"\n",
    "    left = 2*index+1\n",
    "    while left < heapSize:\n",
    "        largest = left+1 if (left+1 < heapSize and arr[left] < arr[left+1]) else left\n",
    "        largest = index if arr[index] > arr[largest] else largest\n",
    "        if index == largest:\n",
    "            break\n",
    "        arr[largest], arr[index] = arr[index], arr[largest]\n",
    "        index = largest\n",
    "        left = 2*index+1\n",
    "        \n",
    "    return None\n",
    "\n",
    "\n",
    "def HeapSort(arr):\n",
    "    heapSize = len(arr)\n",
    "    if heapSize <= 1:\n",
    "        return arr\n",
    "    for i in range(heapSize):\n",
    "        HeapInsert(arr, i)\n",
    "    \n",
    "    heapSize -= 1\n",
    "    arr[0], arr[heapSize] = arr[heapSize], arr[0]\n",
    "    while heapSize>0:\n",
    "        Heapify(arr, 0, heapSize)\n",
    "        heapSize -= 1\n",
    "        arr[0], arr[heapSize] = arr[heapSize], arr[0]\n",
    "    return arr"
   ]
  },
  {
   "cell_type": "code",
   "execution_count": 33,
   "metadata": {},
   "outputs": [
    {
     "name": "stdout",
     "output_type": "stream",
     "text": [
      "[148, 194, 169, 112, 154, 111, 116, 115, 182, 180, 122, 150, 107, 173, 142, 106, 177, 117, 100, 104, 178, 118, 151, 105, 190, 164, 130, 129, 138, 156, 197, 195, 183, 187, 119, 174, 172, 185, 136, 191, 159, 162, 147, 170, 168, 189, 140, 176, 181, 127, 171, 166, 145, 128, 199, 146, 198, 109, 125, 161, 175, 196, 152, 155, 126, 165, 184, 113, 133, 124, 153, 143, 149, 139, 103, 192, 160, 163, 141, 158, 188, 193, 186, 167, 132, 120, 121, 108, 137, 144, 123, 179, 114, 134, 131, 135, 101, 157, 102, 110]\n",
      "[100, 101, 102, 103, 104, 105, 106, 107, 108, 109, 110, 111, 112, 113, 114, 115, 116, 117, 118, 119, 120, 121, 122, 123, 124, 125, 126, 127, 128, 129, 130, 131, 132, 133, 134, 135, 136, 137, 138, 139, 140, 141, 142, 143, 144, 145, 146, 147, 148, 149, 150, 151, 152, 153, 154, 155, 156, 157, 158, 159, 160, 161, 162, 163, 164, 165, 166, 167, 168, 169, 170, 171, 172, 173, 174, 175, 176, 177, 178, 179, 180, 181, 182, 183, 184, 185, 186, 187, 188, 189, 190, 191, 192, 193, 194, 195, 196, 197, 198, 199]\n",
      "True\n"
     ]
    }
   ],
   "source": [
    "arr = randomArr(100)\n",
    "print(arr)\n",
    "print(HeapSort(arr))\n",
    "print(compareMethod(HeapSort, sorted, arr))"
   ]
  },
  {
   "cell_type": "markdown",
   "metadata": {},
   "source": [
    "# 排序算法的稳定性\n",
    "\n",
    "* 数组中相同元素在经过排序后，相对位置不变，则称该排序算法稳定\n",
    "* 冒泡、插入、归并排序可以稳定\n",
    "* 选择、快速、堆排序不稳定\n",
    "\n",
    "## 为什么需要稳定性\n",
    "\n",
    "1. 现实需求可能要求稳定性\n",
    "\n",
    "# 工程中综合排序算法\n",
    "\n",
    "1. 工程中如果数组长度很短（<60），则会直接用插排，因为插排的时间复杂度常数项很低\n",
    "2. 工程中会先判断数组中是否基础类型，\n",
    "    1. 如果是基础类型，则会用快排，然后当长度很短，就插排\n",
    "    2. 如果不是，则会用归并排序\n",
    "3. 总之就是python中这些排序都是综合排序\n",
    "\n",
    "# 比较器\n",
    "\n",
    "* 主要用于类比较，自己实现比较器来排序类\n",
    "\n",
    "# 非基于比较的排序\n",
    "\n",
    "* 桶排序：\n",
    "    1. 设置一个定量的数组当作空桶子。\n",
    "    2. 寻访序列，并且把项目一个一个放到对应的桶子去。\n",
    "    3. 对每个不是空的桶子进行排序。\n",
    "    4. 从不是空的桶子里把项目再放回原来的序列中。\n",
    "* 计数排序\n",
    "    1. 计数排序的核心在于将输入的数据值转化为键存储在额外开辟的数组空间中。\n",
    "    2. 作为一种线性时间复杂度的排序，计数排序要求输入的数据必须是有确定范围的整数\n",
    "\n",
    "* 基数排序\n",
    "\n",
    "## 计数排序\n",
    "\n",
    "### 复杂度\n",
    "\n",
    "* 时间复杂度：$O(N)$\n",
    "\n",
    "### python实现"
   ]
  },
  {
   "cell_type": "code",
   "execution_count": 34,
   "metadata": {},
   "outputs": [],
   "source": [
    "def countSort(arr):\n",
    "    len_arr = len(arr)\n",
    "    if len_arr <= 1:\n",
    "        return arr\n",
    "    key = [0] * len_arr\n",
    "    value = [0] * len_arr\n",
    "    max_arr = max(arr)\n",
    "    min_arr = min(arr)\n",
    "    for i in arr:\n",
    "        index = (i - min_arr) * (len_arr-1) // (max_arr-min_arr)\n",
    "        key[index] = i\n",
    "        value[index] += 1\n",
    "    result = []\n",
    "    for i, j in zip(key, value):\n",
    "        for x in range(j):\n",
    "            result.append(i)\n",
    "    return result"
   ]
  },
  {
   "cell_type": "code",
   "execution_count": 35,
   "metadata": {},
   "outputs": [
    {
     "name": "stdout",
     "output_type": "stream",
     "text": [
      "[1, 2, 1, 2, 2, 3, 4, 3, 4, 2]\n",
      "[1, 1, 2, 2, 2, 2, 3, 3, 4, 4]\n",
      "True\n"
     ]
    }
   ],
   "source": [
    "# arr = randomArr(100)\n",
    "arr = [1,2,1,2,2,3,4,3,4,2]\n",
    "print(arr)\n",
    "print(countSort(arr))\n",
    "print(compareMethod(countSort, sorted, arr))"
   ]
  },
  {
   "cell_type": "markdown",
   "metadata": {},
   "source": [
    "# 桶排序——经常出现的面试题\n",
    "\n",
    "* 给定一个数组，求如果排序之后，相邻两数的最大差值，要求时间复杂度$O(N)$，且要求不能用非基于比较的排序\n",
    "\n",
    "## python实现"
   ]
  },
  {
   "cell_type": "code",
   "execution_count": 36,
   "metadata": {},
   "outputs": [],
   "source": [
    "def adjacentMaxDiff(arr):\n",
    "    len_arr = len(arr)\n",
    "    if len_arr <= 1:\n",
    "        return 0\n",
    "    min_arr = min(arr)\n",
    "    max_arr = max(arr)\n",
    "    if min_arr == max_arr:\n",
    "        return 0\n",
    "    min_ = [0] * (len_arr + 1)\n",
    "    max_ = [0] * (len_arr + 1)\n",
    "    is_ = [0] * (len_arr + 1)\n",
    "    for i in range(len_arr):\n",
    "        index = (arr[i]-min_arr)*len_arr // (max_arr - min_arr)\n",
    "        min_[index] = arr[i] if min_[index] == 0 else min(arr[i], min_[index])\n",
    "        max_[index] = max(arr[i], max_[index])\n",
    "        is_[index] = 1\n",
    "#     print(min_, max_, is_)\n",
    "    tmp = 0\n",
    "    last_max = max_[0]\n",
    "    for i in range(1, len_arr+1):\n",
    "        if is_[i]:\n",
    "            tmp = max(min_[i]-last_max, tmp)\n",
    "            last_max = max_[i]\n",
    "    return tmp"
   ]
  },
  {
   "cell_type": "code",
   "execution_count": 37,
   "metadata": {},
   "outputs": [
    {
     "name": "stdout",
     "output_type": "stream",
     "text": [
      "[1, 2, 1, 9, 2, 3, 6, 3, 4, 2]\n",
      "3\n"
     ]
    }
   ],
   "source": [
    "# arr = randomArr(100)\n",
    "arr = [1,2,1,9,2,3,6,3,4,2]\n",
    "print(arr)\n",
    "print(adjacentMaxDiff(arr))"
   ]
  },
  {
   "cell_type": "markdown",
   "metadata": {},
   "source": [
    "# 数组实现队列和栈\n",
    "\n",
    "* 用数组结构实现大小固定的队列和栈\n",
    "\n",
    "## 实现栈\n",
    "\n",
    "### 思路\n",
    "\n",
    "* 栈的特点：先进后出\n",
    "\n",
    "* 使用一个指针size来实现\n",
    "\n",
    "### python实现"
   ]
  },
  {
   "cell_type": "code",
   "execution_count": 38,
   "metadata": {},
   "outputs": [],
   "source": [
    "class Stack(object):\n",
    "    def __init__(self, size_arr):\n",
    "        self.arr = []\n",
    "        self.size_arr = size_arr\n",
    "        self.size = 0\n",
    "    \n",
    "    def peek(self):\n",
    "        if self.size <= 0:\n",
    "            raise ValueError(\"没值了！\")\n",
    "        return self.arr[self.size-1]\n",
    "    \n",
    "    def push(self, x):\n",
    "        if self.size >= self.size_arr:\n",
    "            raise ValueError(\"满了！\")\n",
    "        self.arr.append(x)\n",
    "        self.size += 1\n",
    "    \n",
    "    def pop(self):\n",
    "        if self.size <= 0:\n",
    "            raise ValueError(\"没有值了！\")\n",
    "        self.size -= 1\n",
    "#         print(self.arr[self.size])\n",
    "        return self.arr.pop(self.size)"
   ]
  },
  {
   "cell_type": "code",
   "execution_count": 39,
   "metadata": {},
   "outputs": [
    {
     "name": "stdout",
     "output_type": "stream",
     "text": [
      "[1]\n"
     ]
    },
    {
     "data": {
      "text/plain": [
       "1"
      ]
     },
     "execution_count": 39,
     "metadata": {},
     "output_type": "execute_result"
    }
   ],
   "source": [
    "test = Stack(3)\n",
    "test.push(1)\n",
    "# test.push(2)\n",
    "# test.push(3)\n",
    "# test.push(4)\n",
    "print(test.arr)\n",
    "# test.pop()\n",
    "# test.pop()\n",
    "# test.pop()\n",
    "# test.peek()\n",
    "test.pop()\n",
    "# print(test.arr)"
   ]
  },
  {
   "cell_type": "markdown",
   "metadata": {},
   "source": [
    "## 实现队列\n",
    "\n",
    "### 思路\n",
    "\n",
    "* 队列的特点：先进先出\n",
    "\n",
    "* 使用三个指针，一个start，一个end，一个size\n",
    "\n",
    "### python实现"
   ]
  },
  {
   "cell_type": "code",
   "execution_count": 40,
   "metadata": {},
   "outputs": [],
   "source": [
    "class Queue(object):\n",
    "    def __init__(self, size_arr):\n",
    "        self.arr = [0] * size_arr\n",
    "        self.size_arr = size_arr\n",
    "        self.size = 0\n",
    "        self.start = 0\n",
    "        self.end = 0\n",
    "        \n",
    "    \n",
    "    def peek(self):\n",
    "        if self.size <= 0:\n",
    "            raise ValueError(\"没值了！\")\n",
    "        return self.arr[self.start]\n",
    "    \n",
    "    def push(self, x):\n",
    "        if self.size >= self.size_arr:\n",
    "            raise ValueError(\"满了！\")\n",
    "        self.arr[self.end] = x\n",
    "        self.end = self.end + 1 if self.end+1 < self.size_arr else 0\n",
    "        self.size += 1\n",
    "    \n",
    "    def pop(self):\n",
    "        if self.size <= 0:\n",
    "            raise ValueError(\"没有值了！\")\n",
    "        tmp = self.arr[self.start]\n",
    "        self.start = self.start+1 if self.start+1 < self.size_arr else 0\n",
    "        self.size -= 1\n",
    "        return tmp"
   ]
  },
  {
   "cell_type": "code",
   "execution_count": 41,
   "metadata": {},
   "outputs": [
    {
     "name": "stdout",
     "output_type": "stream",
     "text": [
      "1\n",
      "2\n",
      "3\n"
     ]
    }
   ],
   "source": [
    "test = Queue(3)\n",
    "test.push(1)\n",
    "test.push(2)\n",
    "test.push(3)\n",
    "print(test.pop())\n",
    "print(test.pop())\n",
    "print(test.pop())\n",
    "# print(test.pop())"
   ]
  },
  {
   "cell_type": "markdown",
   "metadata": {},
   "source": [
    "## 栈相关面试题\n",
    "\n",
    "* 实现一个特殊的栈，在实现栈的基本功能的基础上，再实现返回栈中最小元素的操作\n",
    "* 要求：\n",
    "    1. pop,push,getMin操作的时间复杂度都是$O(1)$\n",
    "    2. 设计的栈类型可以使用现成的栈结构\n",
    "\n",
    "### 思路\n",
    "\n",
    "* 使用两个栈，一个栈正常存元素，一个栈只存最小值进去\n",
    "\n",
    "### python实现"
   ]
  },
  {
   "cell_type": "code",
   "execution_count": 42,
   "metadata": {},
   "outputs": [],
   "source": [
    "class MinStack(object):\n",
    "    def __init__(self):\n",
    "        self.stack1 = []\n",
    "        self.stack2 = []\n",
    "    \n",
    "    def peek(self):\n",
    "        if len(self.stack1) <=0:\n",
    "             raise ValueError(\"没值了！\")\n",
    "        return self.stack1[-1]\n",
    "    \n",
    "    def push(self, x):\n",
    "        self.stack1.append(x)\n",
    "        if len(self.stack2) <=0:\n",
    "            self.stack2.append(x)\n",
    "        else:\n",
    "            self.stack2.append(min(x, self.stack2[-1]))\n",
    "    \n",
    "    def pop(self):\n",
    "        if len(self.stack1) <=0:\n",
    "            raise ValueError(\"没值了！\")\n",
    "        self.stack2.pop()\n",
    "        return self.stack1.pop()\n",
    "    \n",
    "    def getMin(self):\n",
    "        if len(self.stack1) <=0:\n",
    "            raise ValueError(\"没值了！\")\n",
    "        return self.stack2[-1]"
   ]
  },
  {
   "cell_type": "code",
   "execution_count": 43,
   "metadata": {},
   "outputs": [
    {
     "name": "stdout",
     "output_type": "stream",
     "text": [
      "3\n",
      "1\n",
      "1\n",
      "2\n",
      "2\n"
     ]
    }
   ],
   "source": [
    "test = MinStack()\n",
    "test.push(2)\n",
    "test.push(1)\n",
    "test.push(3)\n",
    "test.getMin()\n",
    "# test.pop()\n",
    "print(test.pop())\n",
    "print(test.getMin())\n",
    "print(test.pop())\n",
    "print(test.getMin())\n",
    "print(test.pop())\n",
    "# print(test.getMin())\n",
    "# print(test.pop())\n",
    "# print(test.getMin())"
   ]
  },
  {
   "cell_type": "markdown",
   "metadata": {},
   "source": [
    "## 栈-队列相互实现\n",
    "\n",
    "* 使用栈实现队列\n",
    "* 使用队列实现栈\n",
    "\n",
    "### 栈实现队列"
   ]
  },
  {
   "cell_type": "code",
   "execution_count": 73,
   "metadata": {},
   "outputs": [],
   "source": [
    "class QueueStack(object):\n",
    "    def __init__(self):\n",
    "        self.stack1 = []\n",
    "        self.stack2 = []\n",
    "    \n",
    "    def peek(self):\n",
    "        if len(self.stack2)==0:\n",
    "            self.dao()\n",
    "        return self.stack2[-1]\n",
    "    \n",
    "    def push(self, x):\n",
    "        self.stack1.append(x)\n",
    "#         if len(self.stack2)==0:\n",
    "#             self.dao()\n",
    "    \n",
    "    def pop(self):\n",
    "        if len(self.stack2) <=0:\n",
    "            pass\n",
    "        if len(self.stack2)==0:\n",
    "            self.dao()\n",
    "        return self.stack2.pop()\n",
    "    \n",
    "    def dao(self):\n",
    "        while len(self.stack1)>0:\n",
    "            self.stack2.append(self.stack1.pop())"
   ]
  },
  {
   "cell_type": "code",
   "execution_count": 78,
   "metadata": {},
   "outputs": [
    {
     "name": "stdout",
     "output_type": "stream",
     "text": [
      "1\n",
      "2\n",
      "3\n",
      "4\n",
      "5\n"
     ]
    }
   ],
   "source": [
    "test = QueueStack()\n",
    "test.push(1)\n",
    "test.push(2)\n",
    "print(test.pop())\n",
    "test.push(3)\n",
    "test.push(4)\n",
    "print(test.pop())\n",
    "print(test.pop())\n",
    "print(test.pop())\n",
    "test.push(5)\n",
    "print(test.pop())"
   ]
  },
  {
   "cell_type": "code",
   "execution_count": null,
   "metadata": {},
   "outputs": [],
   "source": []
  },
  {
   "cell_type": "code",
   "execution_count": null,
   "metadata": {},
   "outputs": [],
   "source": []
  },
  {
   "cell_type": "code",
   "execution_count": null,
   "metadata": {},
   "outputs": [],
   "source": []
  },
  {
   "cell_type": "code",
   "execution_count": null,
   "metadata": {},
   "outputs": [],
   "source": []
  },
  {
   "cell_type": "code",
   "execution_count": null,
   "metadata": {},
   "outputs": [],
   "source": []
  },
  {
   "cell_type": "markdown",
   "metadata": {},
   "source": [
    "# 判断素数问题"
   ]
  },
  {
   "cell_type": "code",
   "execution_count": null,
   "metadata": {},
   "outputs": [],
   "source": [
    "import math\n",
    "def judgePrime(arr):\n",
    "    def isPrime(N):\n",
    "        if N < 3:\n",
    "            return N > 1\n",
    "        for i in range(2, int(math.sqrt(N))):\n",
    "            if N%i==0:\n",
    "                return False\n",
    "        return True\n",
    "    result = []\n",
    "    for i in range(101, 201):\n",
    "        if isPrime(i):\n",
    "            result.append(i)\n",
    "    return result"
   ]
  },
  {
   "cell_type": "code",
   "execution_count": null,
   "metadata": {},
   "outputs": [],
   "source": [
    "print(judgePrime(range(101, 201)))"
   ]
  },
  {
   "cell_type": "code",
   "execution_count": null,
   "metadata": {},
   "outputs": [],
   "source": [
    "def generateArr(N):\n",
    "    result = []\n",
    "    for i in range(1, N):\n",
    "        result.extend([('a'+str(i))]*i)\n",
    "    return result"
   ]
  },
  {
   "cell_type": "code",
   "execution_count": null,
   "metadata": {},
   "outputs": [],
   "source": [
    "arr = generateArr(20)\n",
    "print(arr)"
   ]
  },
  {
   "cell_type": "markdown",
   "metadata": {},
   "source": [
    "# topK问题"
   ]
  },
  {
   "cell_type": "code",
   "execution_count": null,
   "metadata": {},
   "outputs": [],
   "source": [
    "def topK(arr, K):\n",
    "    print(arr)\n",
    "    result = {}\n",
    "    for i in arr:\n",
    "        if i not in result.keys():\n",
    "            result[i] = 0\n",
    "        result[i] += 1\n",
    "    result = sorted(result.items(), key=lambda x: x[1], reverse=True)\n",
    "    result = [x[0] for x in result[:K]]\n",
    "    return result"
   ]
  },
  {
   "cell_type": "code",
   "execution_count": null,
   "metadata": {},
   "outputs": [],
   "source": [
    "topK(arr, 10)"
   ]
  },
  {
   "cell_type": "code",
   "execution_count": null,
   "metadata": {},
   "outputs": [],
   "source": [
    "?sorted"
   ]
  },
  {
   "cell_type": "code",
   "execution_count": null,
   "metadata": {},
   "outputs": [],
   "source": [
    "fee = {\n",
    "    \"盒马买菜\": 98.8,\n",
    "    \"滴滴打车\": 11.8,\n",
    "    \"小杨生煎\": 13,\n",
    "    \"富临买水\": 5.5,\n",
    "    \"朴朴超市\": 63.03\n",
    "}"
   ]
  },
  {
   "cell_type": "code",
   "execution_count": null,
   "metadata": {},
   "outputs": [],
   "source": [
    "sum(fee.values())"
   ]
  },
  {
   "cell_type": "code",
   "execution_count": null,
   "metadata": {},
   "outputs": [],
   "source": []
  }
 ],
 "metadata": {
  "kernelspec": {
   "display_name": "Python 3",
   "language": "python",
   "name": "python3"
  },
  "language_info": {
   "codemirror_mode": {
    "name": "ipython",
    "version": 3
   },
   "file_extension": ".py",
   "mimetype": "text/x-python",
   "name": "python",
   "nbconvert_exporter": "python",
   "pygments_lexer": "ipython3",
   "version": "3.8.5"
  }
 },
 "nbformat": 4,
 "nbformat_minor": 4
}
